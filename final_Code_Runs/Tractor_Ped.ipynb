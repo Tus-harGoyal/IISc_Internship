{
 "cells": [
  {
   "cell_type": "code",
   "execution_count": 1,
   "id": "8f19430d",
   "metadata": {},
   "outputs": [
    {
     "name": "stdout",
     "output_type": "stream",
     "text": [
      "Original tractorrcycle count: 153\n",
      "Filtered tractorrcycle count: 38\n",
      "4.039249118814901\n"
     ]
    }
   ],
   "source": [
    "import pandas as pd\n",
    "import numpy as np\n",
    "from scipy.spatial.distance import cdist\n",
    "\n",
    "# Parameters\n",
    "SPEED_THRESHOLD = 4  # m/s\n",
    "MIN_STOP_DURATION = 1.0  # seconds\n",
    "DIST_THRESH = 2.5\n",
    "EXPORT_INTERVAL = 0.16  # seconds\n",
    "PED_BOX = (0.3, 0.3)\n",
    "TRACTOR_BOX = (3.4,1.8)         \n",
    "\n",
    "# ----------------------------------\n",
    "# Helpers\n",
    "# ----------------------------------\n",
    "\n",
    "def filter_stopped_vehicles(df, speed_col='speed', time_col='TimeStamp'):\n",
    "    \"\"\"Filter out stopped vehicles longer than threshold\"\"\"\n",
    "    df = df.copy()\n",
    "    df['time_diff'] = df.groupby('Track ID')[time_col].diff()\n",
    "    df['is_stopped'] = df[speed_col] < SPEED_THRESHOLD\n",
    "    stop_groups = (df['is_stopped'] != df['is_stopped'].shift()).cumsum()\n",
    "    df['stop_duration'] = df.groupby(['Track ID', stop_groups])['time_diff'].cumsum()\n",
    "    return df[~((df['is_stopped']) & (df['stop_duration'] >= MIN_STOP_DURATION))].drop(columns=['time_diff', 'is_stopped', 'stop_duration'])\n",
    "\n",
    "def get_rotated_corners(x, y, heading, length, width):\n",
    "    \"\"\"Return coordinates of rotated bounding box corners\"\"\"\n",
    "    half_l, half_w = length / 2, width / 2\n",
    "    corners = np.array([\n",
    "        [ half_l,  half_w],\n",
    "        [ half_l, -half_w],\n",
    "        [-half_l, -half_w],\n",
    "        [-half_l,  half_w]\n",
    "    ])\n",
    "    rad = np.radians(heading)\n",
    "    rot = np.array([\n",
    "        [np.cos(rad), -np.sin(rad)],\n",
    "        [np.sin(rad),  np.cos(rad)]\n",
    "    ])\n",
    "    return (corners @ rot.T) + np.array([x, y])\n",
    "\n",
    "def get_closest_corners(row):\n",
    "    \"\"\"Get direction vector and min distance between closest corners\"\"\"\n",
    "    ped_corners = get_rotated_corners(row['x_smooth_ped'], row['y_smooth_ped'], row['HA_ped'], *PED_BOX)\n",
    "    tractor_corners = get_rotated_corners(row['x_smooth_tractor'], row['y_smooth_tractor'], row['HA_tractor'], *TRACTOR_BOX)\n",
    "    dists = cdist(ped_corners, tractor_corners)\n",
    "    idx = np.unravel_index(np.argmin(dists), dists.shape)\n",
    "    min_dist = dists[idx]\n",
    "    direction_vec = tractor_corners[idx[1]] - ped_corners[idx[0]]\n",
    "    return min_dist, direction_vec\n",
    "\n",
    "def calculate_attc(row):\n",
    "    \"\"\"Compute ATTC using projection of relative motion on direction vector\"\"\"\n",
    "    min_dist, direction_vec = get_closest_corners(row)\n",
    "    norm = np.linalg.norm(direction_vec)\n",
    "    if norm == 0:\n",
    "        return np.inf\n",
    "    unit_vec = direction_vec / norm\n",
    "\n",
    "    rel_v = np.array([\n",
    "        row['vx_smooth_ped'] - row['vx_smooth_tractor'],\n",
    "        row['vy_smooth_ped'] - row['vy_smooth_tractor']\n",
    "    ])\n",
    "    rel_a = 0.5 * np.array([\n",
    "        row['ax_ped'] - row['ax_tractor'],\n",
    "        row['ay_ped'] - row['ay_tractor']\n",
    "    ])\n",
    "\n",
    "    closing_rate = -np.dot(rel_v, unit_vec) + np.dot(rel_a, unit_vec)\n",
    "    return min_dist / closing_rate if closing_rate > 0 else np.inf\n",
    "\n",
    "# ----------------------------------\n",
    "# Load Data\n",
    "# ----------------------------------\n",
    "\n",
    "df_ped = pd.read_csv(r\"D:\\T\\test_codeEVT\\nd\\ped_smooth.csv\")\n",
    "df_tractor = pd.read_csv(r\"D:\\T\\test_codeEVT\\nd\\tractor_smooth.csv\")\n",
    "df_tractor['speed'] = np.sqrt(df_tractor['vx_smooth']**2 + df_tractor['vy_smooth']**2)\n",
    "\n",
    "# Filter stopped vehicles\n",
    "print(f\"Original tractorrcycle count: {len(df_tractor)}\")\n",
    "df_tractor = filter_stopped_vehicles(df_tractor, speed_col='speed')\n",
    "print(f\"Filtered tractorrcycle count: {len(df_tractor)}\")\n",
    "print(df_tractor['speed'].mean())\n",
    "# # Calculate yaw rates\n",
    "# for df in [df_ped, df_tractor]:\n",
    "#     df['yaw_rate'] = df.groupby('Track ID').apply(\n",
    "#         lambda x: x['HA'].diff() / x['TimeStamp'].diff()\n",
    "#     ).reset_index(level=0, drop=True)\n",
    "\n",
    "# Round timestamps\n",
    "df_ped['Time_rounded'] = (df_ped['TimeStamp'] / EXPORT_INTERVAL).round() * EXPORT_INTERVAL\n",
    "df_tractor['Time_rounded'] = (df_tractor['TimeStamp'] / EXPORT_INTERVAL).round() * EXPORT_INTERVAL\n"
   ]
  },
  {
   "cell_type": "code",
   "execution_count": 3,
   "id": "711b980b",
   "metadata": {},
   "outputs": [
    {
     "name": "stdout",
     "output_type": "stream",
     "text": [
      "    Ped_ID  tractor_ID  TimeStamp       ATTC\n",
      "40   14419       14474    4954.16  10.311933\n",
      "41   14419       14474    4954.32        inf\n",
      "42   14419       14474    4954.48   0.219135\n",
      "43   14419       14474    4954.64   0.275010\n",
      "44   14419       14474    4954.80        inf\n",
      "45   14419       14474    4954.96        inf\n",
      "46   14419       14474    4955.12        inf\n",
      "47   14419       14474    4955.28   2.584048\n",
      "48   14419       14474    4955.44   3.027749\n",
      "49   14419       14474    4955.60        inf\n"
     ]
    },
    {
     "data": {
      "text/plain": [
       "1"
      ]
     },
     "execution_count": 3,
     "metadata": {},
     "output_type": "execute_result"
    }
   ],
   "source": [
    "\n",
    "# ----------------------------------\n",
    "# Merge and Process\n",
    "# ----------------------------------\n",
    "\n",
    "merged = pd.merge(\n",
    "    df_ped, \n",
    "    df_tractor, \n",
    "    on='Time_rounded', \n",
    "    suffixes=('_ped', '_tractor')\n",
    ")\n",
    "\n",
    "merged['Center_dist'] = np.hypot(\n",
    "    merged['x_smooth_ped'] - merged['x_smooth_tractor'],\n",
    "    merged['y_smooth_ped'] - merged['y_smooth_tractor']\n",
    ")\n",
    "\n",
    "# Filter by center threshold\n",
    "results = merged[merged['Center_dist'] <= DIST_THRESH].copy()\n",
    "\n",
    "# Calculate ATTC using corrected method\n",
    "results['ATTC'] = results.apply(calculate_attc, axis=1)\n",
    "results[['mindis', 'direction_vec']] = results.apply(\n",
    "    lambda row: pd.Series(get_closest_corners(row)),\n",
    "    axis=1\n",
    ")\n",
    "# Output\n",
    "output = results[['Track ID_ped', 'Track ID_tractor', 'TimeStamp_ped', 'ATTC']].rename(columns={\n",
    "    'Track ID_ped': 'Ped_ID',\n",
    "    'Track ID_tractor': 'tractor_ID',\n",
    "    'TimeStamp_ped': 'TimeStamp'\n",
    "})\n",
    "print(output)\n",
    "len(results[(results['ATTC']<1) & (results['mindis']<1)][['Track ID_ped', 'Track ID_tractor']].drop_duplicates())"
   ]
  },
  {
   "cell_type": "code",
   "execution_count": 4,
   "id": "1e75e100",
   "metadata": {},
   "outputs": [
    {
     "data": {
      "text/html": [
       "<div>\n",
       "<style scoped>\n",
       "    .dataframe tbody tr th:only-of-type {\n",
       "        vertical-align: middle;\n",
       "    }\n",
       "\n",
       "    .dataframe tbody tr th {\n",
       "        vertical-align: top;\n",
       "    }\n",
       "\n",
       "    .dataframe thead th {\n",
       "        text-align: right;\n",
       "    }\n",
       "</style>\n",
       "<table border=\"1\" class=\"dataframe\">\n",
       "  <thead>\n",
       "    <tr style=\"text-align: right;\">\n",
       "      <th></th>\n",
       "      <th>Track ID_ped</th>\n",
       "      <th>Track ID_tractor</th>\n",
       "    </tr>\n",
       "  </thead>\n",
       "  <tbody>\n",
       "    <tr>\n",
       "      <th>42</th>\n",
       "      <td>14419</td>\n",
       "      <td>14474</td>\n",
       "    </tr>\n",
       "  </tbody>\n",
       "</table>\n",
       "</div>"
      ],
      "text/plain": [
       "    Track ID_ped  Track ID_tractor\n",
       "42         14419             14474"
      ]
     },
     "execution_count": 4,
     "metadata": {},
     "output_type": "execute_result"
    }
   ],
   "source": [
    "results[(results['ATTC']<1) & (results['mindis']<1)][['Track ID_ped', 'Track ID_tractor']].drop_duplicates()"
   ]
  },
  {
   "cell_type": "code",
   "execution_count": 5,
   "id": "440cc93a",
   "metadata": {},
   "outputs": [
    {
     "data": {
      "text/html": [
       "<div>\n",
       "<style scoped>\n",
       "    .dataframe tbody tr th:only-of-type {\n",
       "        vertical-align: middle;\n",
       "    }\n",
       "\n",
       "    .dataframe tbody tr th {\n",
       "        vertical-align: top;\n",
       "    }\n",
       "\n",
       "    .dataframe thead th {\n",
       "        text-align: right;\n",
       "    }\n",
       "</style>\n",
       "<table border=\"1\" class=\"dataframe\">\n",
       "  <thead>\n",
       "    <tr style=\"text-align: right;\">\n",
       "      <th></th>\n",
       "      <th>Track ID_ped</th>\n",
       "      <th>Track ID_tractor</th>\n",
       "      <th>TimeStamp_ped</th>\n",
       "    </tr>\n",
       "  </thead>\n",
       "  <tbody>\n",
       "    <tr>\n",
       "      <th>42</th>\n",
       "      <td>14419</td>\n",
       "      <td>14474</td>\n",
       "      <td>4954.48</td>\n",
       "    </tr>\n",
       "  </tbody>\n",
       "</table>\n",
       "</div>"
      ],
      "text/plain": [
       "    Track ID_ped  Track ID_tractor  TimeStamp_ped\n",
       "42         14419             14474        4954.48"
      ]
     },
     "execution_count": 5,
     "metadata": {},
     "output_type": "execute_result"
    }
   ],
   "source": [
    "results[(results['ATTC']<1) & (results['mindis']<1)][['Track ID_ped', 'Track ID_tractor','TimeStamp_ped']]"
   ]
  },
  {
   "cell_type": "code",
   "execution_count": 6,
   "id": "695ce33a",
   "metadata": {},
   "outputs": [],
   "source": [
    "# REJECTED"
   ]
  },
  {
   "cell_type": "code",
   "execution_count": 7,
   "id": "444da202",
   "metadata": {},
   "outputs": [
    {
     "name": "stdout",
     "output_type": "stream",
     "text": [
      "    PED_ID  VEH_ID      TYPE  TIMESTAMP  MIN_COR_DIS       ATTC\n",
      "40   14419   14474   Tractor    4954.16     0.426154  10.311933\n",
      "41   14419   14474   Tractor    4954.32     0.418333        inf\n",
      "42   14419   14474   Tractor    4954.48     0.641229   0.219135\n",
      "43   14419   14474   Tractor    4954.64     1.103138   0.275010\n",
      "44   14419   14474   Tractor    4954.80     1.567735        inf\n"
     ]
    }
   ],
   "source": [
    "# Create new DataFrame with selected and renamed columns\n",
    "conflict_summary = results[[\n",
    "    'Track ID_ped',        # Pedestrian ID\n",
    "    'Track ID_tractor',       # Vehicle ID\n",
    "    'Type_tractor',           # Vehicle type\n",
    "    'TimeStamp_ped',       # Timestamp\n",
    "    'mindis',              # Minimum corner distance\n",
    "    'ATTC'                 # ATTC value\n",
    "]].copy()\n",
    "\n",
    "# Rename columns\n",
    "conflict_summary.rename(columns={\n",
    "    'Track ID_ped': 'PED_ID',\n",
    "    'Track ID_tractor': 'VEH_ID',\n",
    "    'Type_tractor': 'TYPE',\n",
    "    'TimeStamp_ped': 'TIMESTAMP',\n",
    "    'mindis': 'MIN_COR_DIS',\n",
    "    'ATTC': 'ATTC'\n",
    "}, inplace=True)\n",
    "\n",
    "# Preview\n",
    "print(conflict_summary.head())\n"
   ]
  },
  {
   "cell_type": "code",
   "execution_count": 8,
   "id": "4f31a1de",
   "metadata": {},
   "outputs": [],
   "source": [
    "conflict_summary.to_csv(r\"D:\\T\\test_codeEVT\\ATTC_Data/Tractor_Ped.csv\", index=False)"
   ]
  }
 ],
 "metadata": {
  "kernelspec": {
   "display_name": "TG",
   "language": "python",
   "name": "python3"
  },
  "language_info": {
   "codemirror_mode": {
    "name": "ipython",
    "version": 3
   },
   "file_extension": ".py",
   "mimetype": "text/x-python",
   "name": "python",
   "nbconvert_exporter": "python",
   "pygments_lexer": "ipython3",
   "version": "3.13.5"
  }
 },
 "nbformat": 4,
 "nbformat_minor": 5
}
