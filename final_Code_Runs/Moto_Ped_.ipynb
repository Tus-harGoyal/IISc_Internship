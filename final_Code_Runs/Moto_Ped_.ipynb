{
 "cells": [
  {
   "cell_type": "code",
   "execution_count": 1,
   "id": "8bc0d50b",
   "metadata": {},
   "outputs": [
    {
     "name": "stdout",
     "output_type": "stream",
     "text": [
      "Original motorcycle count: 307259\n",
      "Filtered motorcycle count: 77484\n",
      "6.785159255181011\n"
     ]
    },
    {
     "name": "stderr",
     "output_type": "stream",
     "text": [
      "C:\\Users\\IST LAB 1\\AppData\\Local\\Temp\\ipykernel_11548\\3215455798.py:88: DeprecationWarning: DataFrameGroupBy.apply operated on the grouping columns. This behavior is deprecated, and in a future version of pandas the grouping columns will be excluded from the operation. Either pass `include_groups=False` to exclude the groupings or explicitly select the grouping columns after groupby to silence this warning.\n",
      "  df['yaw_rate'] = df.groupby('Track ID').apply(\n",
      "C:\\Users\\IST LAB 1\\AppData\\Local\\Temp\\ipykernel_11548\\3215455798.py:88: DeprecationWarning: DataFrameGroupBy.apply operated on the grouping columns. This behavior is deprecated, and in a future version of pandas the grouping columns will be excluded from the operation. Either pass `include_groups=False` to exclude the groupings or explicitly select the grouping columns after groupby to silence this warning.\n",
      "  df['yaw_rate'] = df.groupby('Track ID').apply(\n"
     ]
    }
   ],
   "source": [
    "import pandas as pd\n",
    "import numpy as np\n",
    "from scipy.spatial.distance import cdist\n",
    "\n",
    "# Parameters\n",
    "SPEED_THRESHOLD = 4  # m/s\n",
    "MIN_STOP_DURATION = 1.0  # seconds\n",
    "DIST_THRESH = 1\n",
    "EXPORT_INTERVAL = 0.16  # seconds\n",
    "PED_BOX = (0.3, 0.3)\n",
    "MOTO_BOX = (1.87, 0.64)\n",
    "\n",
    "# ----------------------------------\n",
    "# Helpers\n",
    "# ----------------------------------\n",
    "\n",
    "def filter_stopped_vehicles(df, speed_col='speed', time_col='TimeStamp'):\n",
    "    \"\"\"Filter out stopped vehicles longer than threshold\"\"\"\n",
    "    df = df.copy()\n",
    "    df['time_diff'] = df.groupby('Track ID')[time_col].diff()\n",
    "    df['is_stopped'] = df[speed_col] < SPEED_THRESHOLD\n",
    "    stop_groups = (df['is_stopped'] != df['is_stopped'].shift()).cumsum()\n",
    "    df['stop_duration'] = df.groupby(['Track ID', stop_groups])['time_diff'].cumsum()\n",
    "    return df[~((df['is_stopped']) & (df['stop_duration'] >= MIN_STOP_DURATION))].drop(columns=['time_diff', 'is_stopped', 'stop_duration'])\n",
    "\n",
    "def get_rotated_corners(x, y, heading, length, width):\n",
    "    \"\"\"Return coordinates of rotated bounding box corners\"\"\"\n",
    "    half_l, half_w = length / 2, width / 2\n",
    "    corners = np.array([\n",
    "        [ half_l,  half_w],\n",
    "        [ half_l, -half_w],\n",
    "        [-half_l, -half_w],\n",
    "        [-half_l,  half_w]\n",
    "    ])\n",
    "    rad = np.radians(heading)\n",
    "    rot = np.array([\n",
    "        [np.cos(rad), -np.sin(rad)],\n",
    "        [np.sin(rad),  np.cos(rad)]\n",
    "    ])\n",
    "    return (corners @ rot.T) + np.array([x, y])\n",
    "\n",
    "def get_closest_corners(row):\n",
    "    \"\"\"Get direction vector and min distance between closest corners\"\"\"\n",
    "    ped_corners = get_rotated_corners(row['x_smooth_ped'], row['y_smooth_ped'], row['HA_ped'], *PED_BOX)\n",
    "    moto_corners = get_rotated_corners(row['x_smooth_moto'], row['y_smooth_moto'], row['HA_moto'], *MOTO_BOX)\n",
    "    dists = cdist(ped_corners, moto_corners)\n",
    "    idx = np.unravel_index(np.argmin(dists), dists.shape)\n",
    "    min_dist = dists[idx]\n",
    "    direction_vec = moto_corners[idx[1]] - ped_corners[idx[0]]\n",
    "    return min_dist, direction_vec\n",
    "\n",
    "def calculate_attc(row):\n",
    "    \"\"\"Compute ATTC using projection of relative motion on direction vector\"\"\"\n",
    "    min_dist, direction_vec = get_closest_corners(row)\n",
    "    norm = np.linalg.norm(direction_vec)\n",
    "    if norm == 0:\n",
    "        return np.inf\n",
    "    unit_vec = direction_vec / norm\n",
    "\n",
    "    rel_v = np.array([\n",
    "        row['vx_smooth_ped'] - row['vx_smooth_moto'],\n",
    "        row['vy_smooth_ped'] - row['vy_smooth_moto']\n",
    "    ])\n",
    "    rel_a = 0.5 * np.array([\n",
    "        row['ax_ped'] - row['ax_moto'],\n",
    "        row['ay_ped'] - row['ay_moto']\n",
    "    ])\n",
    "\n",
    "    closing_rate = -np.dot(rel_v, unit_vec) + np.dot(rel_a, unit_vec)\n",
    "    return min_dist / closing_rate if closing_rate > 0 else np.inf\n",
    "\n",
    "# ----------------------------------\n",
    "# Load Data\n",
    "# ----------------------------------\n",
    "\n",
    "df_ped = pd.read_csv(r\"D:\\T\\test_codeEVT\\nd\\ped_smooth.csv\")\n",
    "df_moto = pd.read_csv(r\"D:\\T\\test_codeEVT\\nd\\moto_smooth.csv\")\n",
    "df_moto['speed'] = np.sqrt(df_moto['vx_smooth']**2 + df_moto['vy_smooth']**2)\n",
    "\n",
    "# Filter stopped vehicles\n",
    "print(f\"Original motorcycle count: {len(df_moto)}\")\n",
    "df_moto = filter_stopped_vehicles(df_moto, speed_col='speed')\n",
    "print(f\"Filtered motorcycle count: {len(df_moto)}\")\n",
    "\n",
    "print(df_moto['speed'].mean())\n",
    "# Calculate yaw rates\n",
    "for df in [df_ped, df_moto]:\n",
    "    df['yaw_rate'] = df.groupby('Track ID').apply(\n",
    "        lambda x: x['HA'].diff() / x['TimeStamp'].diff()\n",
    "    ).reset_index(level=0, drop=True)\n",
    "\n",
    "# Round timestamps\n",
    "df_ped['Time_rounded'] = (df_ped['TimeStamp'] / EXPORT_INTERVAL).round() * EXPORT_INTERVAL\n",
    "df_moto['Time_rounded'] = (df_moto['TimeStamp'] / EXPORT_INTERVAL).round() * EXPORT_INTERVAL\n"
   ]
  },
  {
   "cell_type": "code",
   "execution_count": 12,
   "id": "1dc32896",
   "metadata": {},
   "outputs": [
    {
     "name": "stdout",
     "output_type": "stream",
     "text": [
      "        Ped_ID  Moto_ID  TimeStamp      ATTC\n",
      "1843       282      302     106.84  0.080488\n",
      "1854       282      302     107.16  0.154317\n",
      "1855       282      302     107.16  0.426804\n",
      "5202       381      407     130.16       inf\n",
      "5203       381      407     130.32       inf\n",
      "...        ...      ...        ...       ...\n",
      "368384   15693    15756    5396.60       inf\n",
      "368389   15693    15756    5396.76       inf\n",
      "368396   15693    15756    5396.92       inf\n",
      "368401   15693    15756    5397.08  1.932371\n",
      "368407   15693    15756    5397.24       inf\n",
      "\n",
      "[653 rows x 4 columns]\n"
     ]
    },
    {
     "data": {
      "text/plain": [
       "106"
      ]
     },
     "execution_count": 12,
     "metadata": {},
     "output_type": "execute_result"
    }
   ],
   "source": [
    "\n",
    "# ----------------------------------\n",
    "# Merge and Process\n",
    "# ----------------------------------\n",
    "\n",
    "merged = pd.merge(\n",
    "    df_ped, \n",
    "    df_moto, \n",
    "    on='Time_rounded', \n",
    "    suffixes=('_ped', '_moto')\n",
    ")\n",
    "\n",
    "merged['Center_dist'] = np.hypot(\n",
    "    merged['x_smooth_ped'] - merged['x_smooth_moto'],\n",
    "    merged['y_smooth_ped'] - merged['y_smooth_moto']\n",
    ")\n",
    "\n",
    "# Filter by center threshold\n",
    "results = merged[merged['Center_dist'] <= DIST_THRESH].copy()\n",
    "\n",
    "# Calculate ATTC using corrected method\n",
    "results['ATTC'] = results.apply(calculate_attc, axis=1)\n",
    "results[['mindis', 'direction_vec']] = results.apply(\n",
    "    lambda row: pd.Series(get_closest_corners(row)),\n",
    "    axis=1\n",
    ")\n",
    "# Output\n",
    "output = results[['Track ID_ped', 'Track ID_moto', 'TimeStamp_ped', 'ATTC']].rename(columns={\n",
    "    'Track ID_ped': 'Ped_ID',\n",
    "    'Track ID_moto': 'Moto_ID',\n",
    "    'TimeStamp_ped': 'TimeStamp'\n",
    "})\n",
    "print(output)\n",
    "len(results[(results['ATTC']<1) & (results['mindis']<1)][['Track ID_ped', 'Track ID_moto']].drop_duplicates())"
   ]
  },
  {
   "cell_type": "code",
   "execution_count": 13,
   "id": "f827b224",
   "metadata": {},
   "outputs": [
    {
     "data": {
      "text/plain": [
       "106"
      ]
     },
     "execution_count": 13,
     "metadata": {},
     "output_type": "execute_result"
    }
   ],
   "source": [
    "len(results[results['ATTC']<1][['Track ID_ped', 'Track ID_moto']].drop_duplicates())"
   ]
  },
  {
   "cell_type": "code",
   "execution_count": 14,
   "id": "d6d4cbea",
   "metadata": {},
   "outputs": [
    {
     "name": "stdout",
     "output_type": "stream",
     "text": [
      "      PED_ID  VEH_ID         TYPE  TIMESTAMP  MIN_COR_DIS      ATTC\n",
      "1843     282     302   Motorcycle     106.84     0.264678  0.080488\n",
      "1854     282     302   Motorcycle     107.16     0.504374  0.154317\n",
      "1855     282     302   Motorcycle     107.16     0.683216  0.426804\n",
      "5202     381     407   Motorcycle     130.16     0.680352       inf\n",
      "5203     381     407   Motorcycle     130.32     0.780840       inf\n"
     ]
    }
   ],
   "source": [
    "# Create new DataFrame with selected and renamed columns\n",
    "conflict_summary = results[[\n",
    "    'Track ID_ped',        # Pedestrian ID\n",
    "    'Track ID_moto',       # Vehicle ID\n",
    "    'Type_moto',           # Vehicle type\n",
    "    'TimeStamp_ped',       # Timestamp\n",
    "    'mindis',              # Minimum corner distance\n",
    "    'ATTC'                 # ATTC value\n",
    "]].copy()\n",
    "\n",
    "# Rename columns\n",
    "conflict_summary.rename(columns={\n",
    "    'Track ID_ped': 'PED_ID',\n",
    "    'Track ID_moto': 'VEH_ID',\n",
    "    'Type_moto': 'TYPE',\n",
    "    'TimeStamp_ped': 'TIMESTAMP',\n",
    "    'mindis': 'MIN_COR_DIS',\n",
    "    'ATTC': 'ATTC'\n",
    "}, inplace=True)\n",
    "\n",
    "# Preview\n",
    "print(conflict_summary.head())\n"
   ]
  },
  {
   "cell_type": "code",
   "execution_count": 15,
   "id": "53a859ef",
   "metadata": {},
   "outputs": [],
   "source": [
    "conflict_summary.to_csv(r\"D:\\T\\test_codeEVT\\ATTC_Data/moto_Ped.csv\", index=False)"
   ]
  }
 ],
 "metadata": {
  "kernelspec": {
   "display_name": "Abhinav_IIT_Bhu",
   "language": "python",
   "name": "python3"
  },
  "language_info": {
   "codemirror_mode": {
    "name": "ipython",
    "version": 3
   },
   "file_extension": ".py",
   "mimetype": "text/x-python",
   "name": "python",
   "nbconvert_exporter": "python",
   "pygments_lexer": "ipython3",
   "version": "3.12.8"
  }
 },
 "nbformat": 4,
 "nbformat_minor": 5
}
