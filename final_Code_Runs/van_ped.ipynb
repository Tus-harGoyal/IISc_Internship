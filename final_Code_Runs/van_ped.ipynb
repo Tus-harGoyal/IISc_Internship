{
 "cells": [
  {
   "cell_type": "code",
   "execution_count": 2,
   "id": "45808732",
   "metadata": {},
   "outputs": [
    {
     "name": "stdout",
     "output_type": "stream",
     "text": [
      "Original vanrcycle count: 3333\n",
      "Filtered vanrcycle count: 269\n"
     ]
    },
    {
     "name": "stderr",
     "output_type": "stream",
     "text": [
      "C:\\Users\\IST LAB 1\\AppData\\Local\\Temp\\ipykernel_22116\\2808504400.py:87: DeprecationWarning: DataFrameGroupBy.apply operated on the grouping columns. This behavior is deprecated, and in a future version of pandas the grouping columns will be excluded from the operation. Either pass `include_groups=False` to exclude the groupings or explicitly select the grouping columns after groupby to silence this warning.\n",
      "  df['yaw_rate'] = df.groupby('Track ID').apply(\n",
      "C:\\Users\\IST LAB 1\\AppData\\Local\\Temp\\ipykernel_22116\\2808504400.py:87: DeprecationWarning: DataFrameGroupBy.apply operated on the grouping columns. This behavior is deprecated, and in a future version of pandas the grouping columns will be excluded from the operation. Either pass `include_groups=False` to exclude the groupings or explicitly select the grouping columns after groupby to silence this warning.\n",
      "  df['yaw_rate'] = df.groupby('Track ID').apply(\n"
     ]
    }
   ],
   "source": [
    "import pandas as pd\n",
    "import numpy as np\n",
    "from scipy.spatial.distance import cdist\n",
    "\n",
    "# Parameters\n",
    "SPEED_THRESHOLD = 4  # m/s\n",
    "MIN_STOP_DURATION = 1.0  # seconds\n",
    "DIST_THRESH = 2.8\n",
    "EXPORT_INTERVAL = 0.16  # seconds\n",
    "PED_BOX = (0.3, 0.3)\n",
    "VAN_BOX = (4.48,1.80)\n",
    "\n",
    "# ----------------------------------\n",
    "# Helpers\n",
    "# ----------------------------------\n",
    "\n",
    "def filter_stopped_vehicles(df, speed_col='speed', time_col='TimeStamp'):\n",
    "    \"\"\"Filter out stopped vehicles longer than threshold\"\"\"\n",
    "    df = df.copy()\n",
    "    df['time_diff'] = df.groupby('Track ID')[time_col].diff()\n",
    "    df['is_stopped'] = df[speed_col] < SPEED_THRESHOLD\n",
    "    stop_groups = (df['is_stopped'] != df['is_stopped'].shift()).cumsum()\n",
    "    df['stop_duration'] = df.groupby(['Track ID', stop_groups])['time_diff'].cumsum()\n",
    "    return df[~((df['is_stopped']) & (df['stop_duration'] >= MIN_STOP_DURATION))].drop(columns=['time_diff', 'is_stopped', 'stop_duration'])\n",
    "\n",
    "def get_rotated_corners(x, y, heading, length, width):\n",
    "    \"\"\"Return coordinates of rotated bounding box corners\"\"\"\n",
    "    half_l, half_w = length / 2, width / 2\n",
    "    corners = np.array([\n",
    "        [ half_l,  half_w],\n",
    "        [ half_l, -half_w],\n",
    "        [-half_l, -half_w],\n",
    "        [-half_l,  half_w]\n",
    "    ])\n",
    "    rad = np.radians(heading)\n",
    "    rot = np.array([\n",
    "        [np.cos(rad), -np.sin(rad)],\n",
    "        [np.sin(rad),  np.cos(rad)]\n",
    "    ])\n",
    "    return (corners @ rot.T) + np.array([x, y])\n",
    "\n",
    "def get_closest_corners(row):\n",
    "    \"\"\"Get direction vector and min distance between closest corners\"\"\"\n",
    "    ped_corners = get_rotated_corners(row['x_smooth_ped'], row['y_smooth_ped'], row['HA_ped'], *PED_BOX)\n",
    "    van_corners = get_rotated_corners(row['x_smooth_van'], row['y_smooth_van'], row['HA_van'], *VAN_BOX)\n",
    "    dists = cdist(ped_corners, van_corners)\n",
    "    idx = np.unravel_index(np.argmin(dists), dists.shape)\n",
    "    min_dist = dists[idx]\n",
    "    direction_vec = van_corners[idx[1]] - ped_corners[idx[0]]\n",
    "    return min_dist, direction_vec\n",
    "\n",
    "def calculate_attc(row):\n",
    "    \"\"\"Compute ATTC using projection of relative motion on direction vector\"\"\"\n",
    "    min_dist, direction_vec = get_closest_corners(row)\n",
    "    norm = np.linalg.norm(direction_vec)\n",
    "    if norm == 0:\n",
    "        return np.inf\n",
    "    unit_vec = direction_vec / norm\n",
    "\n",
    "    rel_v = np.array([\n",
    "        row['vx_smooth_ped'] - row['vx_smooth_van'],\n",
    "        row['vy_smooth_ped'] - row['vy_smooth_van']\n",
    "    ])\n",
    "    rel_a = 0.5 * np.array([\n",
    "        row['ax_ped'] - row['ax_van'],\n",
    "        row['ay_ped'] - row['ay_van']\n",
    "    ])\n",
    "\n",
    "    closing_rate = -np.dot(rel_v, unit_vec) + np.dot(rel_a, unit_vec)\n",
    "    return min_dist / closing_rate if closing_rate > 0 else np.inf\n",
    "\n",
    "# ----------------------------------\n",
    "# Load Data\n",
    "# ----------------------------------\n",
    "\n",
    "df_ped = pd.read_csv(r\"D:\\T\\test_codeEVT\\nd\\ped_smooth.csv\")\n",
    "df_van = pd.read_csv(r\"D:\\T\\test_codeEVT\\nd\\van_smooth.csv\")\n",
    "df_van['speed'] = np.sqrt(df_van['vx_smooth']**2 + df_van['vy_smooth']**2)\n",
    "\n",
    "# Filter stopped vehicles\n",
    "print(f\"Original vanrcycle count: {len(df_van)}\")\n",
    "df_van = filter_stopped_vehicles(df_van, speed_col='speed')\n",
    "print(f\"Filtered vanrcycle count: {len(df_van)}\")\n",
    "\n",
    "# Calculate yaw rates\n",
    "for df in [df_ped, df_van]:\n",
    "    df['yaw_rate'] = df.groupby('Track ID').apply(\n",
    "        lambda x: x['HA'].diff() / x['TimeStamp'].diff()\n",
    "    ).reset_index(level=0, drop=True)\n",
    "\n",
    "# Round timestamps\n",
    "df_ped['Time_rounded'] = (df_ped['TimeStamp'] / EXPORT_INTERVAL).round() * EXPORT_INTERVAL\n",
    "df_van['Time_rounded'] = (df_van['TimeStamp'] / EXPORT_INTERVAL).round() * EXPORT_INTERVAL\n"
   ]
  },
  {
   "cell_type": "code",
   "execution_count": 3,
   "id": "d0809dd8",
   "metadata": {},
   "outputs": [
    {
     "name": "stdout",
     "output_type": "stream",
     "text": [
      "     Ped_ID  van_ID  TimeStamp       ATTC\n",
      "792   13065   13134    4538.48        inf\n",
      "793   13065   13134    4538.64        inf\n",
      "794   13065   13134    4538.80        inf\n",
      "795   13065   13134    4538.80        inf\n",
      "796   13065   13134    4538.96        inf\n",
      "797   13065   13134    4538.96        inf\n",
      "798   13065   13134    4539.12   7.843624\n",
      "799   13065   13134    4539.12   7.843624\n",
      "800   13065   13134    4539.28   2.099076\n",
      "801   13065   13134    4539.28   2.099076\n",
      "802   13065   13134    4539.44        inf\n",
      "869   14681   14685    5006.36        inf\n",
      "870   14681   14685    5006.52  99.629585\n",
      "871   14681   14685    5006.68  10.265703\n",
      "872   14681   14685    5006.84   7.184327\n",
      "873   14681   14685    5007.00   2.588614\n",
      "874   14681   14685    5007.16  44.547558\n",
      "875   14681   14685    5007.32        inf\n"
     ]
    },
    {
     "data": {
      "text/plain": [
       "0"
      ]
     },
     "execution_count": 3,
     "metadata": {},
     "output_type": "execute_result"
    }
   ],
   "source": [
    "\n",
    "# ----------------------------------\n",
    "# Merge and Process\n",
    "# ----------------------------------\n",
    "\n",
    "merged = pd.merge(\n",
    "    df_ped, \n",
    "    df_van, \n",
    "    on='Time_rounded', \n",
    "    suffixes=('_ped', '_van')\n",
    ")\n",
    "\n",
    "merged['Center_dist'] = np.hypot(\n",
    "    merged['x_smooth_ped'] - merged['x_smooth_van'],\n",
    "    merged['y_smooth_ped'] - merged['y_smooth_van']\n",
    ")\n",
    "\n",
    "# Filter by center threshold\n",
    "results = merged[merged['Center_dist'] <= DIST_THRESH].copy()\n",
    "\n",
    "# Calculate ATTC using corrected method\n",
    "results['ATTC'] = results.apply(calculate_attc, axis=1)\n",
    "results[['mindis', 'direction_vec']] = results.apply(\n",
    "    lambda row: pd.Series(get_closest_corners(row)),\n",
    "    axis=1\n",
    ")# Output\n",
    "output = results[['Track ID_ped', 'Track ID_van', 'TimeStamp_ped', 'ATTC']].rename(columns={\n",
    "    'Track ID_ped': 'Ped_ID',\n",
    "    'Track ID_van': 'van_ID',\n",
    "    'TimeStamp_ped': 'TimeStamp'\n",
    "})\n",
    "print(output)\n",
    "len(results[(results['ATTC']<1) & (results['mindis']<1)][['Track ID_ped', 'Track ID_van']].drop_duplicates())"
   ]
  },
  {
   "cell_type": "code",
   "execution_count": 4,
   "id": "70e0c91c",
   "metadata": {},
   "outputs": [
    {
     "data": {
      "text/plain": [
       "0"
      ]
     },
     "execution_count": 4,
     "metadata": {},
     "output_type": "execute_result"
    }
   ],
   "source": [
    "len(results[results['ATTC']<1][['Track ID_ped', 'Track ID_van']].drop_duplicates())"
   ]
  },
  {
   "cell_type": "code",
   "execution_count": 5,
   "id": "58e34d4c",
   "metadata": {},
   "outputs": [
    {
     "name": "stdout",
     "output_type": "stream",
     "text": [
      "     PED_ID  VEH_ID  TYPE  TIMESTAMP  MIN_COR_DIS  ATTC\n",
      "792   13065   13134   Van    4538.48          NaN   inf\n",
      "793   13065   13134   Van    4538.64     0.228551   inf\n",
      "794   13065   13134   Van    4538.80     0.274500   inf\n",
      "795   13065   13134   Van    4538.80     0.274500   inf\n",
      "796   13065   13134   Van    4538.96     0.285275   inf\n"
     ]
    }
   ],
   "source": [
    "# Create new DataFrame with selected and renamed columns\n",
    "conflict_summary = results[[\n",
    "    'Track ID_ped',        # Pedestrian ID\n",
    "    'Track ID_van',       # Vehicle ID\n",
    "    'Type_van',           # Vehicle type\n",
    "    'TimeStamp_ped',       # Timestamp\n",
    "    'mindis',              # Minimum corner distance\n",
    "    'ATTC'                 # ATTC value\n",
    "]].copy()\n",
    "\n",
    "# Rename columns\n",
    "conflict_summary.rename(columns={\n",
    "    'Track ID_ped': 'PED_ID',\n",
    "    'Track ID_van': 'VEH_ID',\n",
    "    'Type_van': 'TYPE',\n",
    "    'TimeStamp_ped': 'TIMESTAMP',\n",
    "    'mindis': 'MIN_COR_DIS',\n",
    "    'ATTC': 'ATTC'\n",
    "}, inplace=True)\n",
    "\n",
    "# Preview\n",
    "print(conflict_summary.head())\n"
   ]
  },
  {
   "cell_type": "code",
   "execution_count": 6,
   "id": "d2f6000b",
   "metadata": {},
   "outputs": [],
   "source": [
    "conflict_summary.to_csv(r\"D:\\T\\test_codeEVT\\ATTC_Data/Van_Ped.csv\", index=False)"
   ]
  }
 ],
 "metadata": {
  "kernelspec": {
   "display_name": "TG",
   "language": "python",
   "name": "python3"
  },
  "language_info": {
   "codemirror_mode": {
    "name": "ipython",
    "version": 3
   },
   "file_extension": ".py",
   "mimetype": "text/x-python",
   "name": "python",
   "nbconvert_exporter": "python",
   "pygments_lexer": "ipython3",
   "version": "3.13.5"
  }
 },
 "nbformat": 4,
 "nbformat_minor": 5
}
