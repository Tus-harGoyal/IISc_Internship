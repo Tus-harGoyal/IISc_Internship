{
 "cells": [
  {
   "cell_type": "code",
   "execution_count": 15,
   "id": "dd04c5b8",
   "metadata": {},
   "outputs": [],
   "source": [
    "import pandas as pd\n",
    "import numpy as np\n",
    "from scipy.spatial.distance import cdist\n",
    "\n",
    "# Load data\n",
    "df1 = pd.read_csv(r\"D:\\T\\test_codeEVT\\nd\\ped_smooth.csv\")\n",
    "df2 = pd.read_csv(r\"D:\\T\\test_codeEVT\\nd\\car_smooth.csv\")\n",
    "\n",
    "# Filter specific IDs\n",
    "ped = df1[df1['Track ID'] == 382].copy()\n",
    "car = df2[df2['Track ID'] == 374].copy()\n",
    "\n",
    "# Vectorized timestamp rounding\n",
    "EXPORT_INTERVAL = 0.16\n",
    "ped['TimeStamp_rounded'] = np.round(ped['TimeStamp'] / EXPORT_INTERVAL) * EXPORT_INTERVAL\n",
    "car['TimeStamp_rounded'] = np.round(car['TimeStamp'] / EXPORT_INTERVAL) * EXPORT_INTERVAL\n",
    "\n",
    "# Vectorized heading calculation\n",
    "def calculate_heading(vx, vy):\n",
    "    return np.degrees(np.arctan2(vy, vx)) % 360\n",
    "\n",
    "ped['heading'] = calculate_heading(ped['vx_smooth'].values, ped['vy_smooth'].values)\n",
    "car['heading'] = calculate_heading(car['vx_smooth'].values, car['vy_smooth'].values)\n",
    "\n",
    "# Bounding box dimensions\n",
    "PED_BOX = (0.3, 0.3)\n",
    "CAR_BOX = (3.72, 1.44)\n",
    "DIST_THRESH = 2\n",
    "\n",
    "# Vectorized rotated corners calculation\n",
    "def get_all_rotated_corners(df, box_dim):\n",
    "    \"\"\"Vectorized calculation of all rotated corners for a dataframe\"\"\"\n",
    "    half_l, half_w = box_dim[0]/2, box_dim[1]/2\n",
    "    base_corners = np.array([\n",
    "        [half_l, half_w],\n",
    "        [half_l, -half_w],\n",
    "        [-half_l, -half_w],\n",
    "        [-half_l, half_w]\n",
    "    ])\n",
    "    \n",
    "    headings_rad = np.radians(df['heading'].values)\n",
    "    cos = np.cos(headings_rad)\n",
    "    sin = np.sin(headings_rad)\n",
    "    \n",
    "    # Vectorized rotation and translation\n",
    "    rotated = np.empty((len(df), 4, 2))\n",
    "    for i in range(4):  # For each corner\n",
    "        x = base_corners[i, 0]\n",
    "        y = base_corners[i, 1]\n",
    "        rotated[:, i, 0] = x * cos - y * sin + df['x_smooth'].values\n",
    "        rotated[:, i, 1] = x * sin + y * cos + df['y_smooth'].values\n",
    "    \n",
    "    return rotated\n",
    "\n",
    "# Pre-compute all rotated corners\n",
    "ped_corners_all = get_all_rotated_corners(ped, PED_BOX)\n",
    "car_corners_all = get_all_rotated_corners(car, CAR_BOX)\n",
    "\n",
    "# Vectorized temporal matching\n",
    "TIME_BUFFER = 0.0\n",
    "ped_times = ped['TimeStamp_rounded'].values\n",
    "car_times = car['TimeStamp_rounded'].values\n",
    "\n",
    "# Create a grid of time differences\n",
    "time_diffs = np.abs(ped_times[:, None] - car_times[None, :])\n",
    "time_matches = time_diffs <= TIME_BUFFER\n",
    "\n",
    "# Vectorized center distance calculation\n",
    "ped_xy = ped[['x_smooth', 'y_smooth']].values\n",
    "car_xy = car[['x_smooth', 'y_smooth']].values\n",
    "center_dists = np.hypot(\n",
    "    ped_xy[:, 0, None] - car_xy[None, :, 0],\n",
    "    ped_xy[:, 1, None] - car_xy[None, :, 1]\n",
    ")\n",
    "\n",
    "# Find all potential conflicts\n",
    "conflict_mask = (time_matches) & (center_dists <= DIST_THRESH)\n",
    "ped_idx, car_idx = np.where(conflict_mask)\n",
    "\n",
    "# Vectorized corner distance calculation\n",
    "# Vectorized corner distance and closing rate calculation\n",
    "conflicts = []\n",
    "for p_idx, c_idx in zip(ped_idx, car_idx):\n",
    "    # Get the corner coordinates\n",
    "    ped_corners = ped_corners_all[p_idx]\n",
    "    car_corners = car_corners_all[c_idx]\n",
    "    \n",
    "    # Calculate all pairwise distances\n",
    "    dist_matrix = cdist(ped_corners, car_corners)\n",
    "    min_idx = np.unravel_index(np.argmin(dist_matrix), dist_matrix.shape)\n",
    "    min_dist = dist_matrix[min_idx]\n",
    "    \n",
    "    if min_dist == 0:\n",
    "        closing_rate = 0  # Collision occurring\n",
    "    else:\n",
    "        # Get the direction vector between closest corners\n",
    "        direction_vec = car_corners[min_idx[1]] - ped_corners[min_idx[0]]\n",
    "        unit_vec = direction_vec / min_dist\n",
    "        \n",
    "        # Get current rows\n",
    "        ped_row = ped.iloc[p_idx]\n",
    "        car_row = car.iloc[c_idx]\n",
    "        \n",
    "        # Calculate relative velocity and acceleration\n",
    "        rel_v = np.array([\n",
    "            ped_row['vx_smooth'] - car_row['vx_smooth'],\n",
    "            ped_row['vy_smooth'] - car_row['vy_smooth']\n",
    "        ])\n",
    "        rel_a = np.array([\n",
    "            ped_row['ax'] - car_row['ax'],\n",
    "            ped_row['ay'] - car_row['ay']\n",
    "        ]) * 0.5  # 0.5s prediction\n",
    "        \n",
    "        # Project onto minimum distance direction\n",
    "        closing_rate = -np.dot(rel_v, unit_vec) + np.dot(rel_a, unit_vec)\n",
    "    \n",
    "    conflicts.append({\n",
    "        'Ped_Time': ped.iloc[p_idx]['TimeStamp'],\n",
    "        'Ped_Time_Rounded': ped_times[p_idx],\n",
    "        'Car_Time': car.iloc[c_idx]['TimeStamp'],\n",
    "        'Car_Time_Rounded': car_times[c_idx],\n",
    "        'Time_Diff': car_times[c_idx] - ped_times[p_idx],\n",
    "        'Center_Distance': center_dists[p_idx, c_idx],\n",
    "        'Min_Corner_Distance': min_dist,\n",
    "        'Closing_Rate': closing_rate,\n",
    "        'ATTC': min_dist/closing_rate if closing_rate > 0 else np.inf,\n",
    "        'Ped_X': ped_xy[p_idx, 0],\n",
    "        'Ped_Y': ped_xy[p_idx, 1],\n",
    "        'Car_X': car_xy[c_idx, 0],\n",
    "        'Car_Y': car_xy[c_idx, 1],\n",
    "        'Car_Heading': car.iloc[c_idx]['heading'],\n",
    "        'Ped_Heading': ped.iloc[p_idx]['heading']\n",
    "    })\n",
    "\n",
    "# Create results DataFrame\n",
    "results = pd.DataFrame(conflicts).drop_duplicates(\n",
    "    subset=['Ped_Time_Rounded', 'Car_Time_Rounded'], \n",
    "    keep='first'\n",
    ")"
   ]
  },
  {
   "cell_type": "code",
   "execution_count": 16,
   "id": "2d8ddfa9",
   "metadata": {},
   "outputs": [
    {
     "name": "stdout",
     "output_type": "stream",
     "text": [
      "\n",
      "Conflict Points with ATTC (±0.0s, ≤2m):\n",
      "    Ped_Time_Rounded  Car_Time_Rounded  Min_Corner_Distance  Closing_Rate      ATTC\n",
      "0             122.40            122.40             0.478300     -0.013407       inf\n",
      "1             122.56            122.56             0.528935      0.337028  1.569409\n",
      "2             122.72            122.72             0.670790      0.499974  1.341650\n",
      "3             122.88            122.88             0.739473      0.723655  1.021859\n",
      "4             123.04            123.04             0.894827      0.595920  1.501589\n",
      "5             123.20            123.20             0.895333      0.573196  1.562001\n",
      "6             123.36            123.36             0.973908      0.571183  1.705072\n",
      "7             123.52            123.52             1.100995      0.119111  9.243440\n",
      "8             123.68            123.68             1.344414      0.249363  5.391384\n",
      "9             123.84            123.84             1.512040      0.690820  2.188763\n",
      "10            124.00            124.00             1.587338     -1.255402       inf\n",
      "11            124.16            124.16             1.350345     -1.346626       inf\n",
      "12            124.32            124.32             1.175214     -1.662108       inf\n",
      "13            124.48            124.48             0.961212     -1.253772       inf\n",
      "14            124.64            124.64             0.791127     -1.037713       inf\n",
      "15            124.80            124.80             0.709765     -0.611477       inf\n",
      "16            124.96            124.96             0.622979     -0.929265       inf\n",
      "17            125.12            125.12             0.510502     -1.266687       inf\n",
      "18            125.28            125.28             0.444557     -0.771663       inf\n",
      "19            125.44            125.44             0.410839     -0.328207       inf\n",
      "20            125.60            125.60             0.422622      0.118488  3.566792\n",
      "21            125.76            125.76             0.419573     -0.097613       inf\n",
      "22            125.92            125.92             0.412002      0.397923  1.035380\n"
     ]
    }
   ],
   "source": [
    "if not results.empty:\n",
    "    print(f\"\\nConflict Points with ATTC (±{TIME_BUFFER}s, ≤{DIST_THRESH}m):\")\n",
    "    print(results[['Ped_Time_Rounded', 'Car_Time_Rounded', \n",
    "                 'Min_Corner_Distance', 'Closing_Rate', 'ATTC']].to_string())"
   ]
  },
  {
   "cell_type": "code",
   "execution_count": 21,
   "id": "a4aa5bf4",
   "metadata": {},
   "outputs": [
    {
     "data": {
      "text/plain": [
       "[<matplotlib.lines.Line2D at 0x1ec09889a00>]"
      ]
     },
     "execution_count": 21,
     "metadata": {},
     "output_type": "execute_result"
    },
    {
     "data": {
      "image/png": "[encoded data removed]",
      "text/plain": [
       "<Figure size 640x480 with 1 Axes>"
      ]
     },
     "metadata": {},
     "output_type": "display_data"
    }
   ],
   "source": [
    "from matplotlib import pyplot as plt\n",
    "plt.xlim(122.4,124)\n",
    "plt.plot(results['Ped_Time_Rounded'],results['ATTC'])"
   ]
  },
  {
   "cell_type": "code",
   "execution_count": null,
   "id": "c8d04857",
   "metadata": {},
   "outputs": [
    {
     "data": {
      "text/plain": [
       "[<matplotlib.lines.Line2D at 0x1ec09889a00>]"
      ]
     },
     "metadata": {},
     "output_type": "display_data"
    },
    {
     "data": {
      "image/png": "[encoded data removed]",
      "text/plain": [
       "<Figure size 640x480 with 1 Axes>"
      ]
     },
     "metadata": {},
     "output_type": "display_data"
    }
   ],
   "source": [
    "from matplotlib import pyplot as plt\n",
    "plt.xlim(122.4,124)\n",
    "plt.plot(results['Ped_Time_Rounded'],results['ATTC'])"
   ]
  },
  {
   "cell_type": "code",
   "execution_count": 18,
   "id": "73b1dec8",
   "metadata": {},
   "outputs": [],
   "source": [
    "results.to_csv(r\"D:\\T/del2.csv\")"
   ]
  }
 ],
 "metadata": {
  "kernelspec": {
   "display_name": "Abhinav_IIT_Bhu",
   "language": "python",
   "name": "python3"
  },
  "language_info": {
   "codemirror_mode": {
    "name": "ipython",
    "version": 3
   },
   "file_extension": ".py",
   "mimetype": "text/x-python",
   "name": "python",
   "nbconvert_exporter": "python",
   "pygments_lexer": "ipython3",
   "version": "3.12.8"
  }
 },
 "nbformat": 4,
 "nbformat_minor": 5
}
