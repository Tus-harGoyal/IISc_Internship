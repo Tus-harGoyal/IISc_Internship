{
 "cells": [
  {
   "cell_type": "code",
   "execution_count": 1,
   "id": "dd04c5b8",
   "metadata": {},
   "outputs": [],
   "source": [
    "import pandas as pd\n",
    "import numpy as np\n",
    "from scipy.spatial.distance import cdist\n",
    "\n",
    "# Load data\n",
    "df1 = pd.read_csv(r\"D:\\T\\test_codeEVT\\nd\\ped_smooth.csv\")\n",
    "df2 = pd.read_csv(r\"D:\\T\\test_codeEVT\\nd\\moto_smooth.csv\")\n",
    "\n",
    "# Filter specific IDs\n",
    "ped = df1[df1['Track ID'] == 282].copy()\n",
    "moto = df2[df2['Track ID'] == 302].copy()\n",
    "\n",
    "# Vectorized timestamp rounding\n",
    "EXPORT_INTERVAL = 0.16\n",
    "ped['TimeStamp_rounded'] = np.round(ped['TimeStamp'] / EXPORT_INTERVAL) * EXPORT_INTERVAL\n",
    "moto['TimeStamp_rounded'] = np.round(moto['TimeStamp'] / EXPORT_INTERVAL) * EXPORT_INTERVAL\n",
    "\n",
    "# Vectorized heading calculation\n",
    "def calculate_heading(vx, vy):\n",
    "    return np.degrees(np.arctan2(vy, vx)) % 360\n",
    "\n",
    "ped['heading'] = calculate_heading(ped['vx_smooth'].values, ped['vy_smooth'].values)\n",
    "moto['heading'] = calculate_heading(moto['vx_smooth'].values, moto['vy_smooth'].values)\n",
    "\n",
    "# Bounding box dimensions\n",
    "PED_BOX = (0.3, 0.3)\n",
    "MOTO_BOX = (1.87, 0.64)\n",
    "DIST_THRESH = 2\n",
    "\n",
    "# Vectorized rotated corners calculation\n",
    "def get_all_rotated_corners(df, box_dim):\n",
    "    \"\"\"Vectorized calculation of all rotated corners for a dataframe\"\"\"\n",
    "    half_l, half_w = box_dim[0]/2, box_dim[1]/2\n",
    "    base_corners = np.array([\n",
    "        [half_l, half_w],\n",
    "        [half_l, -half_w],\n",
    "        [-half_l, -half_w],\n",
    "        [-half_l, half_w]\n",
    "    ])\n",
    "    \n",
    "    headings_rad = np.radians(df['heading'].values)\n",
    "    cos = np.cos(headings_rad)\n",
    "    sin = np.sin(headings_rad)\n",
    "    \n",
    "    # Vectorized rotation and translation\n",
    "    rotated = np.empty((len(df), 4, 2))\n",
    "    for i in range(4):  # For each corner\n",
    "        x = base_corners[i, 0]\n",
    "        y = base_corners[i, 1]\n",
    "        rotated[:, i, 0] = x * cos - y * sin + df['x_smooth'].values\n",
    "        rotated[:, i, 1] = x * sin + y * cos + df['y_smooth'].values\n",
    "    \n",
    "    return rotated\n",
    "\n",
    "# Pre-compute all rotated corners\n",
    "ped_corners_all = get_all_rotated_corners(ped, PED_BOX)\n",
    "moto_corners_all = get_all_rotated_corners(moto, MOTO_BOX)\n",
    "\n",
    "# Vectorized temporal matching\n",
    "TIME_BUFFER = 0.0\n",
    "ped_times = ped['TimeStamp_rounded'].values\n",
    "moto_times = moto['TimeStamp_rounded'].values\n",
    "\n",
    "# Create a grid of time differences\n",
    "time_diffs = np.abs(ped_times[:, None] - moto_times[None, :])\n",
    "time_matches = time_diffs <= TIME_BUFFER\n",
    "\n",
    "# Vectorized center distance calculation\n",
    "ped_xy = ped[['x_smooth', 'y_smooth']].values\n",
    "moto_xy = moto[['x_smooth', 'y_smooth']].values\n",
    "center_dists = np.hypot(\n",
    "    ped_xy[:, 0, None] - moto_xy[None, :, 0],\n",
    "    ped_xy[:, 1, None] - moto_xy[None, :, 1]\n",
    ")\n",
    "\n",
    "# Find all potential conflicts\n",
    "conflict_mask = (time_matches) & (center_dists <= DIST_THRESH)\n",
    "ped_idx, moto_idx = np.where(conflict_mask)\n",
    "\n",
    "# Vectorized corner distance calculation\n",
    "# Vectorized corner distance and closing rate calculation\n",
    "conflicts = []\n",
    "for p_idx, c_idx in zip(ped_idx, moto_idx):\n",
    "    # Get the corner coordinates\n",
    "    ped_corners = ped_corners_all[p_idx]\n",
    "    moto_corners = moto_corners_all[c_idx]\n",
    "    \n",
    "    # Calculate all pairwise distances\n",
    "    dist_matrix = cdist(ped_corners, moto_corners)\n",
    "    min_idx = np.unravel_index(np.argmin(dist_matrix), dist_matrix.shape)\n",
    "    min_dist = dist_matrix[min_idx]\n",
    "    \n",
    "    if min_dist == 0:\n",
    "        closing_rate = 0  # Collision occurring\n",
    "    else:\n",
    "        # Get the direction vector between closest corners\n",
    "        direction_vec = moto_corners[min_idx[1]] - ped_corners[min_idx[0]]\n",
    "        unit_vec = direction_vec / min_dist\n",
    "        \n",
    "        # Get current rows\n",
    "        ped_row = ped.iloc[p_idx]\n",
    "        moto_row = moto.iloc[c_idx]\n",
    "        \n",
    "        # Calculate relative velocity and acceleration\n",
    "        rel_v = np.array([\n",
    "            ped_row['vx_smooth'] - moto_row['vx_smooth'],\n",
    "            ped_row['vy_smooth'] - moto_row['vy_smooth']\n",
    "        ])\n",
    "        rel_a = np.array([\n",
    "            ped_row['ax'] - moto_row['ax'],\n",
    "            ped_row['ay'] - moto_row['ay']\n",
    "        ]) * 0.5  # 0.5s prediction\n",
    "        \n",
    "        # Project onto minimum distance direction\n",
    "        closing_rate = -np.dot(rel_v, unit_vec) + np.dot(rel_a, unit_vec)\n",
    "    \n",
    "    conflicts.append({\n",
    "        'Ped_Time': ped.iloc[p_idx]['TimeStamp'],\n",
    "        'Ped_Time_Rounded': ped_times[p_idx],\n",
    "        'Car_Time': moto.iloc[c_idx]['TimeStamp'],\n",
    "        'Car_Time_Rounded': moto_times[c_idx],\n",
    "        'Time_Diff': moto_times[c_idx] - ped_times[p_idx],\n",
    "        'Center_Distance': center_dists[p_idx, c_idx],\n",
    "        'Min_Corner_Distance': min_dist,\n",
    "        'Closing_Rate': closing_rate,\n",
    "        'ATTC': min_dist/closing_rate if closing_rate > 0 else np.inf,\n",
    "        'Ped_X': ped_xy[p_idx, 0],\n",
    "        'Ped_Y': ped_xy[p_idx, 1],\n",
    "        'Car_X': moto_xy[c_idx, 0],\n",
    "        'Car_Y': moto_xy[c_idx, 1],\n",
    "        'Car_Heading': moto.iloc[c_idx]['heading'],\n",
    "        'Ped_Heading': ped.iloc[p_idx]['heading']\n",
    "    })\n",
    "\n",
    "# Create results DataFrame\n",
    "results = pd.DataFrame(conflicts).drop_duplicates(\n",
    "    subset=['Ped_Time_Rounded', 'Car_Time_Rounded'], \n",
    "    keep='first'\n",
    ")"
   ]
  },
  {
   "cell_type": "code",
   "execution_count": 2,
   "id": "2d8ddfa9",
   "metadata": {},
   "outputs": [
    {
     "name": "stdout",
     "output_type": "stream",
     "text": [
      "\n",
      "Conflict Points with ATTC (±0.0s, ≤2m):\n",
      "   Ped_Time_Rounded  Car_Time_Rounded  Min_Corner_Distance  Closing_Rate      ATTC\n",
      "0            106.56            106.56             0.622870     -5.042810       inf\n",
      "2            106.88            106.88             0.152890     -2.040113       inf\n",
      "4            107.20            107.20             0.504374      3.268433  0.154317\n",
      "6            107.52            107.52             1.129286      0.650452  1.736156\n"
     ]
    }
   ],
   "source": [
    "if not results.empty:\n",
    "    print(f\"\\nConflict Points with ATTC (±{TIME_BUFFER}s, ≤{DIST_THRESH}m):\")\n",
    "    print(results[['Ped_Time_Rounded', 'Car_Time_Rounded', \n",
    "                 'Min_Corner_Distance', 'Closing_Rate', 'ATTC']].to_string())"
   ]
  },
  {
   "cell_type": "code",
   "execution_count": 4,
   "id": "a4aa5bf4",
   "metadata": {},
   "outputs": [
    {
     "data": {
      "text/plain": [
       "[<matplotlib.lines.Line2D at 0x24f03a50aa0>]"
      ]
     },
     "execution_count": 4,
     "metadata": {},
     "output_type": "execute_result"
    },
    {
     "data": {
      "image/png": "[encoded data removed]",
      "text/plain": [
       "<Figure size 640x480 with 1 Axes>"
      ]
     },
     "metadata": {},
     "output_type": "display_data"
    }
   ],
   "source": [
    "from matplotlib import pyplot as plt\n",
    "plt.plot(results['Ped_Time_Rounded'],results['ATTC'])"
   ]
  },
  {
   "cell_type": "code",
   "execution_count": 5,
   "id": "c8d04857",
   "metadata": {},
   "outputs": [
    {
     "data": {
      "text/plain": [
       "[<matplotlib.lines.Line2D at 0x24f0431b770>]"
      ]
     },
     "execution_count": 5,
     "metadata": {},
     "output_type": "execute_result"
    },
    {
     "data": {
      "image/png": "[encoded data removed]",
      "text/plain": [
       "<Figure size 640x480 with 1 Axes>"
      ]
     },
     "metadata": {},
     "output_type": "display_data"
    }
   ],
   "source": [
    "from matplotlib import pyplot as plt\n",
    "plt.xlim(122.4,124)\n",
    "plt.plot(results['Ped_Time_Rounded'],results['ATTC'])"
   ]
  },
  {
   "cell_type": "code",
   "execution_count": 18,
   "id": "73b1dec8",
   "metadata": {},
   "outputs": [],
   "source": [
    "results.to_csv(r\"D:\\T/del2.csv\")"
   ]
  }
 ],
 "metadata": {
  "kernelspec": {
   "display_name": "Abhinav_IIT_Bhu",
   "language": "python",
   "name": "python3"
  },
  "language_info": {
   "codemirror_mode": {
    "name": "ipython",
    "version": 3
   },
   "file_extension": ".py",
   "mimetype": "text/x-python",
   "name": "python",
   "nbconvert_exporter": "python",
   "pygments_lexer": "ipython3",
   "version": "3.12.8"
  }
 },
 "nbformat": 4,
 "nbformat_minor": 5
}
