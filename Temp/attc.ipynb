{
 "cells": [
  {
   "cell_type": "code",
   "execution_count": 3,
   "id": "5f038d13",
   "metadata": {},
   "outputs": [
    {
     "name": "stdout",
     "output_type": "stream",
     "text": [
      "Original motorcycle count: 307259\n",
      "Filtered motorcycle count: 77484\n"
     ]
    },
    {
     "name": "stderr",
     "output_type": "stream",
     "text": [
      "C:\\Users\\IST LAB 1\\AppData\\Local\\Temp\\ipykernel_3660\\3456107647.py:81: DeprecationWarning: DataFrameGroupBy.apply operated on the grouping columns. This behavior is deprecated, and in a future version of pandas the grouping columns will be excluded from the operation. Either pass `include_groups=False` to exclude the groupings or explicitly select the grouping columns after groupby to silence this warning.\n",
      "  df['yaw_rate'] = df.groupby('Track ID').apply(\n",
      "C:\\Users\\IST LAB 1\\AppData\\Local\\Temp\\ipykernel_3660\\3456107647.py:81: DeprecationWarning: DataFrameGroupBy.apply operated on the grouping columns. This behavior is deprecated, and in a future version of pandas the grouping columns will be excluded from the operation. Either pass `include_groups=False` to exclude the groupings or explicitly select the grouping columns after groupby to silence this warning.\n",
      "  df['yaw_rate'] = df.groupby('Track ID').apply(\n"
     ]
    }
   ],
   "source": [
    "import pandas as pd\n",
    "import numpy as np\n",
    "from scipy.spatial.distance import cdist\n",
    "\n",
    "# Parameters\n",
    "SPEED_THRESHOLD = 4  # m/s\n",
    "MIN_STOP_DURATION = 1.0  # seconds\n",
    "DIST_THRESH = 1\n",
    "EXPORT_INTERVAL = 0.16  # seconds\n",
    "PED_BOX = (0.3, 0.3)\n",
    "MOTO_BOX = (1.87, 0.64)\n",
    "\n",
    "# ----------------------------------\n",
    "# Helpers\n",
    "# ----------------------------------\n",
    "\n",
    "def filter_stopped_vehicles(df, speed_col='speed', time_col='TimeStamp'):\n",
    "    \"\"\"Filter out stopped vehicles longer than threshold\"\"\"\n",
    "    df = df.copy()\n",
    "    df['time_diff'] = df.groupby('Track ID')[time_col].diff()\n",
    "    df['is_stopped'] = df[speed_col] < SPEED_THRESHOLD\n",
    "    stop_groups = (df['is_stopped'] != df['is_stopped'].shift()).cumsum()\n",
    "    df['stop_duration'] = df.groupby(['Track ID', stop_groups])['time_diff'].cumsum()\n",
    "    return df[~((df['is_stopped']) & (df['stop_duration'] >= MIN_STOP_DURATION))].drop(columns=['time_diff', 'is_stopped', 'stop_duration'])\n",
    "\n",
    "def get_rotated_corners(x, y, heading, length, width):\n",
    "    \"\"\"Return coordinates of rotated bounding box corners\"\"\"\n",
    "    half_l, half_w = length / 2, width / 2\n",
    "    corners = np.array([\n",
    "        [ half_l,  half_w],\n",
    "        [ half_l, -half_w],\n",
    "        [-half_l, -half_w],\n",
    "        [-half_l,  half_w]\n",
    "    ])\n",
    "    rad = np.radians(heading)\n",
    "    rot = np.array([\n",
    "        [np.cos(rad), -np.sin(rad)],\n",
    "        [np.sin(rad),  np.cos(rad)]\n",
    "    ])\n",
    "    return (corners @ rot.T) + np.array([x, y])\n",
    "\n",
    "def get_closest_corners(row):\n",
    "    \"\"\"Get direction vector and min distance between closest corners\"\"\"\n",
    "    ped_corners = get_rotated_corners(row['x_smooth_ped'], row['y_smooth_ped'], row['HA_ped'], *PED_BOX)\n",
    "    moto_corners = get_rotated_corners(row['x_smooth_moto'], row['y_smooth_moto'], row['HA_moto'], *MOTO_BOX)\n",
    "    dists = cdist(ped_corners, moto_corners)\n",
    "    idx = np.unravel_index(np.argmin(dists), dists.shape)\n",
    "    min_dist = dists[idx]\n",
    "    direction_vec = moto_corners[idx[1]] - ped_corners[idx[0]]\n",
    "    return min_dist, direction_vec\n",
    "\n",
    "def calculate_attc(row):\n",
    "    \"\"\"Compute ATTC using projection of relative motion on direction vector\"\"\"\n",
    "    min_dist, direction_vec = get_closest_corners(row)\n",
    "    vel_ped_x = row['vx_smooth_ped']\n",
    "    vel_ped_y = row['vy_smooth_ped']\n",
    "    vel_moto_x = row['vx_smooth_moto']\n",
    "    vel_moto_y = row['vy_smooth_moto']\n",
    "    acc_ped_x = row['ax_ped']\n",
    "    acc_ped_y = row['ay_ped']\n",
    "    acc_moto_x = row['ax_moto']\n",
    "    acc_moto_y = row['ay_moto']\n",
    "    closing_rate = np.sqrt((vel_ped_x -(vel_moto_x+acc_moto_x*0.16))**2+(vel_ped_y -(vel_ped_y+acc_ped_y*0.16))**2)\n",
    "    return min_dist / closing_rate if closing_rate > 0 else np.inf\n",
    "\n",
    "# ----------------------------------\n",
    "# Load Data\n",
    "# ----------------------------------\n",
    "\n",
    "df_ped = pd.read_csv(r\"D:\\T\\test_codeEVT\\nd\\ped_smooth.csv\")\n",
    "df_moto = pd.read_csv(r\"D:\\T\\test_codeEVT\\nd\\moto_smooth.csv\")\n",
    "df_moto['speed'] = np.sqrt(df_moto['vx_smooth']**2 + df_moto['vy_smooth']**2)\n",
    "\n",
    "# Filter stopped vehicles\n",
    "print(f\"Original motorcycle count: {len(df_moto)}\")\n",
    "df_moto = filter_stopped_vehicles(df_moto, speed_col='speed')\n",
    "print(f\"Filtered motorcycle count: {len(df_moto)}\")\n",
    "\n",
    "# Calculate yaw rates\n",
    "for df in [df_ped, df_moto]:\n",
    "    df['yaw_rate'] = df.groupby('Track ID').apply(\n",
    "        lambda x: x['HA'].diff() / x['TimeStamp'].diff()\n",
    "    ).reset_index(level=0, drop=True)\n",
    "\n",
    "# Round timestamps\n",
    "df_ped['Time_rounded'] = (df_ped['TimeStamp'] / EXPORT_INTERVAL).round() * EXPORT_INTERVAL\n",
    "df_moto['Time_rounded'] = (df_moto['TimeStamp'] / EXPORT_INTERVAL).round() * EXPORT_INTERVAL\n"
   ]
  },
  {
   "cell_type": "code",
   "execution_count": 4,
   "id": "0bc705eb",
   "metadata": {},
   "outputs": [
    {
     "name": "stdout",
     "output_type": "stream",
     "text": [
      "        Ped_ID  Moto_ID  TimeStamp       ATTC\n",
      "1843       282      302     106.84   0.221190\n",
      "1854       282      302     107.16   3.074590\n",
      "1855       282      302     107.16   1.953923\n",
      "5202       381      407     130.16   0.614309\n",
      "5203       381      407     130.32   0.750066\n",
      "...        ...      ...        ...        ...\n",
      "368384   15693    15756    5396.60   0.563124\n",
      "368389   15693    15756    5396.76   0.790017\n",
      "368396   15693    15756    5396.92   1.531201\n",
      "368401   15693    15756    5397.08  17.986807\n",
      "368407   15693    15756    5397.24   1.632980\n",
      "\n",
      "[653 rows x 4 columns]\n"
     ]
    },
    {
     "data": {
      "text/plain": [
       "140"
      ]
     },
     "execution_count": 4,
     "metadata": {},
     "output_type": "execute_result"
    }
   ],
   "source": [
    "\n",
    "# ----------------------------------\n",
    "# Merge and Process\n",
    "# ----------------------------------\n",
    "\n",
    "merged = pd.merge(\n",
    "    df_ped, \n",
    "    df_moto, \n",
    "    on='Time_rounded', \n",
    "    suffixes=('_ped', '_moto')\n",
    ")\n",
    "\n",
    "merged['Center_dist'] = np.hypot(\n",
    "    merged['x_smooth_ped'] - merged['x_smooth_moto'],\n",
    "    merged['y_smooth_ped'] - merged['y_smooth_moto']\n",
    ")\n",
    "\n",
    "# Filter by center threshold\n",
    "results = merged[merged['Center_dist'] <= DIST_THRESH].copy()\n",
    "\n",
    "# Calculate ATTC using corrected method\n",
    "results['ATTC'] = results.apply(calculate_attc, axis=1)\n",
    "results[['mindis', 'direction_vec']] = results.apply(\n",
    "    lambda row: pd.Series(get_closest_corners(row)),\n",
    "    axis=1\n",
    ")\n",
    "# Output\n",
    "output = results[['Track ID_ped', 'Track ID_moto', 'TimeStamp_ped', 'ATTC']].rename(columns={\n",
    "    'Track ID_ped': 'Ped_ID',\n",
    "    'Track ID_moto': 'Moto_ID',\n",
    "    'TimeStamp_ped': 'TimeStamp'\n",
    "})\n",
    "print(output)\n",
    "len(results[(results['ATTC']<1) & (results['mindis']<1)][['Track ID_ped', 'Track ID_moto']].drop_duplicates())"
   ]
  },
  {
   "cell_type": "code",
   "execution_count": 5,
   "id": "0c026759",
   "metadata": {},
   "outputs": [
    {
     "data": {
      "text/plain": [
       "ATTC    25973.307308\n",
       "dtype: float64"
      ]
     },
     "execution_count": 5,
     "metadata": {},
     "output_type": "execute_result"
    }
   ],
   "source": [
    "results[(results['mindis']<1)][['ATTC']].max()"
   ]
  },
  {
   "cell_type": "code",
   "execution_count": 6,
   "id": "4d73a8f8",
   "metadata": {},
   "outputs": [
    {
     "data": {
      "text/plain": [
       "np.float64(inf)"
      ]
     },
     "execution_count": 6,
     "metadata": {},
     "output_type": "execute_result"
    }
   ],
   "source": [
    "results['ATTC'].max()"
   ]
  },
  {
   "cell_type": "code",
   "execution_count": 13,
   "id": "f7f8424f",
   "metadata": {},
   "outputs": [
    {
     "data": {
      "text/plain": [
       "(array([127.,  85.,  75.,  46.,  36.,  23.,  25.,  14.,  11.,  12.,  17.,\n",
       "          9.,  10.,   7.,   5.,  12.,   0.,   5.,   4.,   3.,   1.,   4.,\n",
       "          3.,   3.,   1.,   0.,   1.,   2.,   0.,   1.,   1.,   0.,   0.,\n",
       "          2.,   1.,   0.,   1.,   0.,   1.,   1.,   1.,   0.,   0.,   0.,\n",
       "          1.,   1.,   0.,   1.,   0.,   1.]),\n",
       " array([0.01101247, 0.21055954, 0.41010661, 0.60965368, 0.80920075,\n",
       "        1.00874782, 1.20829489, 1.40784196, 1.60738903, 1.8069361 ,\n",
       "        2.00648317, 2.20603024, 2.40557731, 2.60512438, 2.80467145,\n",
       "        3.00421852, 3.20376559, 3.40331266, 3.60285974, 3.80240681,\n",
       "        4.00195388, 4.20150095, 4.40104802, 4.60059509, 4.80014216,\n",
       "        4.99968923, 5.1992363 , 5.39878337, 5.59833044, 5.79787751,\n",
       "        5.99742458, 6.19697165, 6.39651872, 6.59606579, 6.79561286,\n",
       "        6.99515993, 7.194707  , 7.39425407, 7.59380114, 7.79334821,\n",
       "        7.99289528, 8.19244235, 8.39198942, 8.59153649, 8.79108356,\n",
       "        8.99063063, 9.1901777 , 9.38972477, 9.58927184, 9.78881891,\n",
       "        9.98836598]),\n",
       " <BarContainer object of 50 artists>)"
      ]
     },
     "execution_count": 13,
     "metadata": {},
     "output_type": "execute_result"
    },
    {
     "data": {
      "image/png": "[encoded data removed]",
      "text/plain": [
       "<Figure size 640x480 with 1 Axes>"
      ]
     },
     "metadata": {},
     "output_type": "display_data"
    }
   ],
   "source": [
    "import matplotlib.pyplot as plt\n",
    "\n",
    "plt.hist(results[(results['mindis']<1)& (results['ATTC'] < 10)]['ATTC'], bins=50)"
   ]
  },
  {
   "cell_type": "code",
   "execution_count": 23,
   "id": "d224245b",
   "metadata": {},
   "outputs": [
    {
     "name": "stdout",
     "output_type": "stream",
     "text": [
      "     Track ID_ped  Track ID_moto    mindis      ATTC\n",
      "0             282            302  0.264678  0.221190\n",
      "1             381            407  0.455059  0.481677\n",
      "2             391            390  0.609514  0.618801\n",
      "3             417            433  0.442770  0.190047\n",
      "4            1151           1157  0.168981  0.097652\n",
      "..            ...            ...       ...       ...\n",
      "151         15522          15531  0.409644  0.137368\n",
      "152         15585          15719  0.131350  0.017511\n",
      "153         15602          15624  0.403486  0.262244\n",
      "154         15693          15716  0.259293  0.430699\n",
      "155         15693          15756  0.640313  0.494222\n",
      "\n",
      "[156 rows x 4 columns]\n"
     ]
    },
    {
     "data": {
      "text/plain": [
       "(array([43., 29., 17., 12.,  9., 12.,  5.,  6.,  4.,  2.,  1.,  1.,  2.,\n",
       "         1.,  2.,  0.,  2.,  0.,  0.,  2.,  0.,  0.,  0.,  2.,  0.,  0.,\n",
       "         0.,  1.,  0.,  0.,  0.,  0.,  0.,  0.,  0.,  0.,  1.,  1.,  0.,\n",
       "         0.,  0.,  0.,  0.,  0.,  0.,  0.,  0.,  0.,  0.,  1.]),\n",
       " array([0.01101247, 0.09698098, 0.18294949, 0.268918  , 0.35488651,\n",
       "        0.44085502, 0.52682353, 0.61279204, 0.69876054, 0.78472905,\n",
       "        0.87069756, 0.95666607, 1.04263458, 1.12860309, 1.2145716 ,\n",
       "        1.30054011, 1.38650861, 1.47247712, 1.55844563, 1.64441414,\n",
       "        1.73038265, 1.81635116, 1.90231967, 1.98828818, 2.07425668,\n",
       "        2.16022519, 2.2461937 , 2.33216221, 2.41813072, 2.50409923,\n",
       "        2.59006774, 2.67603625, 2.76200475, 2.84797326, 2.93394177,\n",
       "        3.01991028, 3.10587879, 3.1918473 , 3.27781581, 3.36378432,\n",
       "        3.44975282, 3.53572133, 3.62168984, 3.70765835, 3.79362686,\n",
       "        3.87959537, 3.96556388, 4.05153239, 4.13750089, 4.2234694 ,\n",
       "        4.30943791]),\n",
       " <BarContainer object of 50 artists>)"
      ]
     },
     "execution_count": 23,
     "metadata": {},
     "output_type": "execute_result"
    },
    {
     "data": {
      "image/png": "[encoded data removed]",
      "text/plain": [
       "<Figure size 640x480 with 1 Axes>"
      ]
     },
     "metadata": {},
     "output_type": "display_data"
    }
   ],
   "source": [
    "# Step 1: Filter for mindis < 1\n",
    "filtered = results[results['mindis'] < 1]\n",
    "\n",
    "# Step 2: Group by Track ID pair and get row with min ATTC\n",
    "final = filtered.loc[filtered.groupby(['Track ID_ped', 'Track ID_moto'])['ATTC'].idxmin()]\n",
    "\n",
    "# Step 3: Keep only desired columns\n",
    "final = final[['Track ID_ped', 'Track ID_moto', 'mindis', 'ATTC']].reset_index(drop=True)\n",
    "print(final)\n",
    "plt.hist(final['ATTC'], bins=50)\n"
   ]
  },
  {
   "cell_type": "code",
   "execution_count": 25,
   "id": "cf531ea4",
   "metadata": {},
   "outputs": [
    {
     "data": {
      "image/png": "[encoded data removed]",
      "text/plain": [
       "<Figure size 1200x600 with 1 Axes>"
      ]
     },
     "metadata": {},
     "output_type": "display_data"
    }
   ],
   "source": [
    "import matplotlib.pyplot as plt\n",
    "import pandas as pd\n",
    "\n",
    "# Step 1: Create 10-minute bins from TimeStamp_ped (assuming it's in seconds)\n",
    "results['time_bin'] = (results['TimeStamp_ped'] // 600) * 10  # 600 sec = 10 min\n",
    "\n",
    "# Step 2: Filter for conflict cases\n",
    "conflicts = results[(results['mindis'] < 1) & (results['ATTC'] < 2)]\n",
    "\n",
    "# Step 3: Count number of conflicts per 10-minute bin\n",
    "conflict_counts = conflicts.groupby('time_bin').size().reset_index(name='conflict_count')\n",
    "\n",
    "# Step 4: Bar Plot\n",
    "plt.figure(figsize=(12, 6))\n",
    "plt.bar(conflict_counts['time_bin'], conflict_counts['conflict_count'], width=8, align='center', color='tomato')\n",
    "plt.xlabel('Time Interval Start (Minutes)')\n",
    "plt.ylabel('Number of Conflicts')\n",
    "plt.title('Conflicts (mindis < 1 & ATTC < 2) per 10-Minute Interval')\n",
    "plt.xticks(conflict_counts['time_bin'])  # Show each 10-minute mark\n",
    "plt.grid(axis='y')\n",
    "plt.tight_layout()\n",
    "plt.show()\n"
   ]
  }
 ],
 "metadata": {
  "kernelspec": {
   "display_name": "TG",
   "language": "python",
   "name": "python3"
  },
  "language_info": {
   "codemirror_mode": {
    "name": "ipython",
    "version": 3
   },
   "file_extension": ".py",
   "mimetype": "text/x-python",
   "name": "python",
   "nbconvert_exporter": "python",
   "pygments_lexer": "ipython3",
   "version": "3.13.5"
  }
 },
 "nbformat": 4,
 "nbformat_minor": 5
}
